{
  "nbformat": 4,
  "nbformat_minor": 0,
  "metadata": {
    "colab": {
      "name": "방과후10_31317.ipynb",
      "provenance": [],
      "authorship_tag": "ABX9TyOsVyXlGD6W6kpnef8+hdAY",
      "include_colab_link": true
    },
    "kernelspec": {
      "name": "python3",
      "display_name": "Python 3"
    }
  },
  "cells": [
    {
      "cell_type": "markdown",
      "metadata": {
        "id": "view-in-github",
        "colab_type": "text"
      },
      "source": [
        "<a href=\"https://colab.research.google.com/github/jmk20502/AIpython/blob/master/%EB%B0%A9%EA%B3%BC%ED%9B%8410_31317.ipynb\" target=\"_parent\"><img src=\"https://colab.research.google.com/assets/colab-badge.svg\" alt=\"Open In Colab\"/></a>"
      ]
    },
    {
      "cell_type": "markdown",
      "metadata": {
        "id": "k-j-YqMQEFeE",
        "colab_type": "text"
      },
      "source": [
        "#Keras AI"
      ]
    },
    {
      "cell_type": "code",
      "metadata": {
        "id": "qt2BacG3EIwP",
        "colab_type": "code",
        "colab": {
          "base_uri": "https://localhost:8080/",
          "height": 36
        },
        "outputId": "7c2b1dbe-7a29-4572-a0ce-62c454fbe863"
      },
      "source": [
        "print(\"Hello Github\")"
      ],
      "execution_count": 1,
      "outputs": [
        {
          "output_type": "stream",
          "text": [
            "Hello Github\n"
          ],
          "name": "stdout"
        }
      ]
    }
  ]
}